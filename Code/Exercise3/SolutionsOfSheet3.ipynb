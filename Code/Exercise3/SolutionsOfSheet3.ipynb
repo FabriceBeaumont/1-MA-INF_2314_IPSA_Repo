{
  "nbformat": 4,
  "nbformat_minor": 5,
  "metadata": {
    "kernelspec": {
      "display_name": "Python 3 (ipykernel)",
      "language": "python",
      "name": "python3"
    },
    "language_info": {
      "codemirror_mode": {
        "name": "ipython",
        "version": 3
      },
      "file_extension": ".py",
      "mimetype": "text/x-python",
      "name": "python",
      "nbconvert_exporter": "python",
      "pygments_lexer": "ipython3",
      "version": "3.9.7"
    },
    "colab": {
      "name": "SolutionsOfSheet3.ipynb",
      "provenance": []
    }
  },
  "cells": [
    {
      "cell_type": "markdown",
      "metadata": {
        "id": "dcad54e6"
      },
      "source": [
        "# IPSA 2021 - Exercise 3 - Fun with Fourier Transforms"
      ],
      "id": "dcad54e6"
    },
    {
      "cell_type": "markdown",
      "metadata": {
        "id": "21723a7c"
      },
      "source": [
        "## 0 - Practical Advice"
      ],
      "id": "21723a7c"
    },
    {
      "cell_type": "code",
      "metadata": {
        "id": "7d072763"
      },
      "source": [
        "import imageio \n",
        "import numpy as np\n",
        "import numpy.fft as fft\n",
        "import numpy.random as rnd\n",
        "import scipy.ndimage as img\n",
        "import matplotlib.pyplot as plt\n",
        "plt.rcParams['figure.figsize'] = [10, 6]\n",
        "\n",
        "import timeit, functools"
      ],
      "id": "7d072763",
      "execution_count": 1,
      "outputs": []
    },
    {
      "cell_type": "code",
      "metadata": {
        "id": "f8e6f7db"
      },
      "source": [
        "def imageScaleRange(f, vmin=0, vmax=255):\n",
        "    \"\"\"Stretches the intensity values of a given image array f \n",
        "    such that they cover the whole range from 0 to 255\"\"\"\n",
        "    return np.interp(f, (f.min(), f.max()), (vmin, vmax))\n",
        "\n",
        "def imageRead(imgname, pilmode ='L', arrtype=float):\n",
        "    \"\"\"\n",
        "    Read an image file into a numpy array\n",
        "\n",
        "    imgname: str\n",
        "        name of image file to be read\n",
        "    pilmode: str\n",
        "        for luminance / intesity images use ’L’\n",
        "        for RGB color images use ’RGB’\n",
        "    \n",
        "    arrtype: numpy dtype\n",
        "        use np.float, np.uint8, ...\n",
        "    \"\"\"\n",
        "    return imageio.imread(imgname, pilmode=pilmode).astype(arrtype)\n",
        "\n",
        "def imageWrite(arrF, imgname, arrtype=np.uint8):\n",
        "    \"\"\"\n",
        "    Write a numpy array as an image file \n",
        "    the file type is inferred from the suffix of parameter imgname, e.g. ’.png’\n",
        "    arrF: array_like\n",
        "        array to be written\n",
        "    imgname: str\n",
        "        name of image file to be written\n",
        "    arrtype: numpy dtype\n",
        "        use np.uint8, ...\n",
        "    \"\"\"\n",
        "    imageio.imwrite(imgname, arrF.astype(arrtype))"
      ],
      "id": "f8e6f7db",
      "execution_count": 2,
      "outputs": []
    },
    {
      "cell_type": "markdown",
      "metadata": {
        "id": "c846e5eb"
      },
      "source": [
        "## 1 - Uni-variate Gaussians and their derivatives"
      ],
      "id": "c846e5eb"
    },
    {
      "cell_type": "markdown",
      "metadata": {
        "id": "77aafa1c"
      },
      "source": [
        "An unnormalized, uni-variate Gaussian function $f : \\mathbb{R} \\rightarrow \\mathbb{R}$ with location parameter $\\mu \\in \\mathbb{R}$ and scale parameter $\\sigma \\in \\mathbb{R}_+$ is given by\n",
        "\\begin{equation}\n",
        "f(x \\mid \\mu, \\sigma) = \\exp \\left( - \\frac{(x - \\mu)^2}{2 \\, \\sigma^2}\\right) = e^{- \\frac{1}{2 \\, \\sigma^2} (x - \\mu)^2}\n",
        "\\end{equation}\n",
        "The following plot was created with parameters $\\mu = 0$ and $\\sigma \\in \\{ 0.5, 1.0, 2.0\\}$ and illustrates how such functions look like for $x \\in [-7, +7)$"
      ],
      "id": "77aafa1c"
    },
    {
      "cell_type": "markdown",
      "metadata": {
        "id": "9ed0b248"
      },
      "source": [
        "![Gaussians1D-2.png](attachment:Gaussians1D-2.png)"
      ],
      "id": "9ed0b248"
    },
    {
      "cell_type": "markdown",
      "metadata": {
        "id": "jcaLH2w1wP6K"
      },
      "source": [
        "### 1 (a) Compute the (symbolic) derivative of the Gaussian function"
      ],
      "id": "jcaLH2w1wP6K"
    },
    {
      "cell_type": "markdown",
      "metadata": {
        "id": "f703638f"
      },
      "source": [
        "Using the chain rule: \n",
        "$$ f(x) = e^{u(x)} \\ \\implies \\ f'(x) = u'(x) * e^{u(x)} $$\n",
        "\n",
        "We can compute the derivative of the Gaussian function as:\n",
        "\\begin{align}\n",
        "\\frac{d}{dx} f(x \\mid \\mu, \\sigma) \n",
        "&= \\frac{d}{dx}\\exp \\left( - \\frac{(x - \\mu)^2}{2 \\, \\sigma^2}\\right)\\\\\n",
        "&= \\frac{d}{dx}\\Big[ - \\frac{(x - \\mu)^2}{2 \\, \\sigma^2} \\Big] \\exp \\left( - \\frac{(x - \\mu)^2}{2 \\, \\sigma^2}\\right)\\\\\n",
        "&= \\frac{d}{dx}\\Big[ - \\frac{x^2 -2x\\mu + \\mu^2}{2 \\, \\sigma^2} \\Big] \\exp \\left( - \\frac{(x - \\mu)^2}{2 \\, \\sigma^2}\\right)\\\\\n",
        "&= \\Big[ - \\frac{2x - 2\\mu}{2 \\, \\sigma^2} \\Big] \\exp \\left( - \\frac{(x - \\mu)^2}{2 \\, \\sigma^2}\\right)\\\\\n",
        "&= -\\frac{(x- \\mu)}{\\sigma^2} f(x \\mid \\mu, \\sigma)\\\\\n",
        "&= \\frac{(\\mu - x)}{\\sigma^2} f(x \\mid \\mu, \\sigma)\n",
        "\\end{align}"
      ],
      "id": "f703638f"
    },
    {
      "cell_type": "markdown",
      "metadata": {
        "id": "a365e503"
      },
      "source": [
        "### 1 (b) Use your result and the same parameters as above to create a plot that shows Gaussian derivatives and enter it here:"
      ],
      "id": "a365e503"
    },
    {
      "cell_type": "code",
      "metadata": {
        "id": "508aa8b1"
      },
      "source": [
        "def writeFigure(fig, fname):\n",
        "    fmt = fname.split('.')[-1]\n",
        "    fig.savefig(fname, facecolor=fig.get_facecolor(), edgecolor='w',\n",
        "                papertype='letter', format=fmt, transparent=False,\n",
        "                bbox_inches='tight', pad_inches=0)\n",
        "\n",
        "def plotFcts(x, fs,\n",
        "             labs=None, lfs='x-small',\n",
        "             xtcs=None, ytcs=None,\n",
        "             lims=None, fname=None, title=None):\n",
        "\n",
        "    # Initialize figure and axes\n",
        "    fig = plt.figure()\n",
        "    axs = fig.add_subplot(211, facecolor='w')\n",
        "\n",
        "    # Nicer way of showing coordinate axes\n",
        "    for pos in ['left','bottom']:\n",
        "        axs.spines[pos].set_position('zero')\n",
        "    for pos in ['right','top']:\n",
        "        axs.spines[pos].set_visible(False)\n",
        "        \n",
        "    # Plot the function\n",
        "    for f in fs:\n",
        "        axs.plot(x, f, '-', alpha=0.75)\n",
        "\n",
        "    # Plot the legend\n",
        "    if labs is not None:\n",
        "        axs.legend(labs, loc=\"upper right\", fontsize=lfs,\n",
        "                   facecolor='#e0e0e0', edgecolor='k', fancybox=False)\n",
        "\n",
        "    if xtcs is not None: axs.set_xticks(xtcs)\n",
        "    if ytcs is not None: axs.set_yticks(ytcs)\n",
        "    \n",
        "    if lims is not None:\n",
        "        axs.set_xlim(lims[0], lims[1])\n",
        "        axs.set_ylim(lims[2], lims[3])\n",
        "        \n",
        "    if title:\n",
        "        plt.title(title)\n",
        "        \n",
        "        \n",
        "    # Show figure on screen or write it to disc\n",
        "    plt.show() if fname is None else writeFigure(fig, fname)\n",
        "    plt.close()"
      ],
      "id": "508aa8b1",
      "execution_count": 56,
      "outputs": []
    },
    {
      "cell_type": "code",
      "metadata": {
        "id": "OA6WBKWwyROp"
      },
      "source": [
        "def fctG(x, mu=0., sig=1.):\n",
        "    \"\"\"Gaussian function\"\"\"\n",
        "    return np.exp(-0.5 * (x-mu)**2 / sig**2)\n",
        "\n",
        "def ddxG(x, mu=0., sig=1.):\n",
        "    \"\"\"Derivative of the Gaussian function\"\"\"\n",
        "    return -(x-mu) / sig**2 * fctG(x, mu, sig)"
      ],
      "id": "OA6WBKWwyROp",
      "execution_count": 4,
      "outputs": []
    },
    {
      "cell_type": "code",
      "metadata": {
        "id": "f791986f",
        "outputId": "daea4973-38ce-4aa3-8018-9e2901cc1f8d",
        "colab": {
          "base_uri": "https://localhost:8080/",
          "height": 284
        }
      },
      "source": [
        "xmin = -7\n",
        "xmax = +7\n",
        "rate = 1024\n",
        "xval = np.linspace(xmin, xmax, rate, endpoint=False)\n",
        "\n",
        "\n",
        "sigs = [0.5, 1.0, 2.0]\n",
        "labs = [r'$\\mu = 0, \\sigma = %.1f$' % sig for sig in sigs]\n",
        "\n",
        "\n",
        "\n",
        "# Plot three Gaussians\n",
        "fcts = [fctG(xval, sig=sig) for sig in sigs]\n",
        "\n",
        "lims = [xmin, xmax, -0.1, 1.2]\n",
        "xtcs = np.arange(xmin+1, xmax, 2)\n",
        "ytcs = [-1, 0, +1]\n",
        "plotFcts(xval, fcts, labs=labs,\n",
        "         xtcs=xtcs, ytcs=ytcs, lims=lims, title=\"Parametrized Gaussian function\")\n",
        "\n",
        "\n",
        "# plot their derivatives\n",
        "fcts = [ddxG(xval, sig=sig) for sig in sigs]\n",
        "\n",
        "lims = [xmin, xmax, -1.5, 1.5]\n",
        "xtcs = np.arange(xmin+1, xmax, 2)\n",
        "ytcs = [-1, 0, +1]\n",
        "plotFcts(xval, fcts, labs=labs,\n",
        "         xtcs=xtcs, ytcs=ytcs, lims=lims, title=\"Derivative of the parametrized Gaussian function\")"
      ],
      "id": "f791986f",
      "execution_count": 57,
      "outputs": [
        {
          "output_type": "display_data",
          "data": {
            "image/png": "[encoded data removed]",
            "text/plain": [
              "<Figure size 432x288 with 1 Axes>"
            ]
          },
          "metadata": {
            "needs_background": "light"
          }
        },
        {
          "output_type": "display_data",
          "data": {
            "image/png": "[encoded data removed]",
            "text/plain": [
              "<Figure size 432x288 with 1 Axes>"
            ]
          },
          "metadata": {
            "needs_background": "light"
          }
        }
      ]
    },
    {
      "cell_type": "markdown",
      "metadata": {
        "id": "e599fc1a"
      },
      "source": [
        "## 2 - Working with Labraries for Symbolic Computing"
      ],
      "id": "e599fc1a"
    },
    {
      "cell_type": "markdown",
      "metadata": {
        "id": "821d3bbb"
      },
      "source": [
        "In this course, we work extensively with the python modules `numpy` / `scipy` because they provide numerous functionalities for numerical computing and number crunching. However, during the lectures, we also mentioned software for symbolic computation. Maybe you have come across such software before? Maybe you have heard of Wolfram Mathematica? For python, functionalities for symbolic computation are provided by the `sympy` module. To see what it buys you, execute the following snippet:"
      ],
      "id": "821d3bbb"
    },
    {
      "cell_type": "code",
      "metadata": {
        "id": "822b6d17",
        "outputId": "8385866e-25a0-427f-8d78-610403ad7265",
        "colab": {
          "base_uri": "https://localhost:8080/"
        }
      },
      "source": [
        "! if conda list | grep sympy; then echo 1; else conda install -y sympy; fi"
      ],
      "id": "822b6d17",
      "execution_count": 6,
      "outputs": [
        {
          "output_type": "stream",
          "name": "stdout",
          "text": [
            "/bin/bash: conda: command not found\n",
            "/bin/bash: conda: command not found\n"
          ]
        }
      ]
    },
    {
      "cell_type": "code",
      "metadata": {
        "id": "5ebd4d91",
        "outputId": "419359a8-cb34-4056-8cf4-2a1564146803",
        "colab": {
          "base_uri": "https://localhost:8080/",
          "height": 63
        }
      },
      "source": [
        "from sympy import *\n",
        "from IPython.display import display\n",
        "\n",
        "init_printing(use_unicode=True)\n",
        "\n",
        "x, mu, sigma = symbols('x mu sigma')\n",
        "\n",
        "fctF = exp(-(x-mu)**2 / (2*sigma**2))\n",
        "\n",
        "ddxF = Derivative(fctF, x)\n",
        "\n",
        "display(ddxF.doit())"
      ],
      "id": "5ebd4d91",
      "execution_count": 7,
      "outputs": [
        {
          "output_type": "display_data",
          "data": {
            "image/png": "[encoded data removed]",
            "text/latex": "$\\displaystyle - \\frac{\\left(- 2 \\mu + 2 x\\right) e^{- \\frac{\\left(- \\mu + x\\right)^{2}}{2 \\sigma^{2}}}}{2 \\sigma^{2}}$",
            "text/plain": [
              "                        2  \n",
              "               -(-μ + x)   \n",
              "               ─────────── \n",
              "                      2    \n",
              "                   2⋅σ     \n",
              "-(-2⋅μ + 2⋅x)⋅ℯ            \n",
              "───────────────────────────\n",
              "               2           \n",
              "            2⋅σ            "
            ]
          },
          "metadata": {}
        }
      ]
    },
    {
      "cell_type": "markdown",
      "metadata": {
        "id": "0802cba5"
      },
      "source": [
        "## 3 - Fourier Transforms of Gaussians and their Derivatives"
      ],
      "id": "0802cba5"
    },
    {
      "cell_type": "markdown",
      "metadata": {
        "id": "470f93d6"
      },
      "source": [
        "**Note:** in what follows, we will (for convenience) simplify the Gaussian as well as our notation for this function. First of all, we will drop the location parameter $\\mu$ (when creating the plots in task 3.1, we did set it to zero anyway). Second of all, we will no longer explicitly write the dependence on the scale parameter $\\sigma$. In short, in what follows, we are concerned with Gaussians of the form:\n",
        "\\begin{equation}\n",
        "f(x) = \\exp \\left( - \\frac{x^2}{2 \\, \\sigma^2}\\right) = e^{- \\frac{1}{2 \\, \\sigma^2} x^2}\n",
        "\\end{equation}  "
      ],
      "id": "470f93d6"
    },
    {
      "cell_type": "markdown",
      "metadata": {
        "id": "cd394ee5"
      },
      "source": [
        "Observe that Gaussian functions are square integrable and therefore have Fourier transforms. In fact, the Fourier transforms of Gaussians centered at zero, i.e. without location parameter $\\mu$, are remarkably simple. While the Fourier transform $F(\\omega)$ of a function $f(x)$ is typically a complex valued function, the Fourier transform of a Gaussian centered at zero is a real valued function. You can work this out for yourselves."
      ],
      "id": "cd394ee5"
    },
    {
      "cell_type": "markdown",
      "metadata": {
        "id": "hPz-AERIKnSR"
      },
      "source": [
        "### 3 (a) Symbolically compute the Fourier transform of the simplified version from above"
      ],
      "id": "hPz-AERIKnSR"
    },
    {
      "cell_type": "markdown",
      "metadata": {
        "id": "aoN2-LVRCNCW"
      },
      "source": [
        "Reference: https://docs.sympy.org/latest/modules/integrals/integrals.html#sympy.integrals.transforms.fourier_transform"
      ],
      "id": "aoN2-LVRCNCW"
    },
    {
      "cell_type": "code",
      "metadata": {
        "id": "C4L1ATPozpZV",
        "outputId": "3415df30-b5f5-404c-a4e4-43b452ef052f",
        "colab": {
          "base_uri": "https://localhost:8080/",
          "height": 58
        }
      },
      "source": [
        "from sympy import fourier_transform, exp\n",
        "from sympy.integrals.transforms import _fourier_transform\n",
        "from sympy.abc import x, k, s\n",
        "\n",
        "sigma = symbols('sigma')\n",
        "\n",
        "FTf = fourier_transform(exp(-x**2/(2*sigma**2)), w, k)\n",
        "display(FTf.doit())\n",
        "\n",
        "gaussian = exp(-x**2/(2*sigma**2))\n",
        "fct = _fourier_transform(gaussian, w, k, 1/sqrt(2*pi), -1, \"\", simplify=True)\n",
        "display(fct.doit())"
      ],
      "id": "C4L1ATPozpZV",
      "execution_count": 52,
      "outputs": [
        {
          "output_type": "display_data",
          "data": {
            "image/png": "[encoded data removed]",
            "text/latex": "$\\displaystyle 0$",
            "text/plain": [
              "0"
            ]
          },
          "metadata": {}
        },
        {
          "output_type": "display_data",
          "data": {
            "image/png": "[encoded data removed]",
            "text/latex": "$\\displaystyle 0$",
            "text/plain": [
              "0"
            ]
          },
          "metadata": {}
        }
      ]
    },
    {
      "cell_type": "markdown",
      "metadata": {
        "id": "lRWiPYIbArvW"
      },
      "source": [
        "*Note: An unevaluated return indicates that SymPy was not able to calculate the Fourier Transform.*"
      ],
      "id": "lRWiPYIbArvW"
    },
    {
      "cell_type": "markdown",
      "metadata": {
        "id": "y0PwnwswGlel"
      },
      "source": [
        "In the mathematical computation we will make use of the fact that $\\sin(x)=\\frac{1}{2i}\\big( e^{ix} - e^{-ix} \\big)$ and $\\cos(x)=\\frac{1}{2}\\big( e^{ix} + e^{-ix} \\big)$. More explicitly we will use that:\n",
        "\\begin{equation}\n",
        "    \\exp(-i\\omega x) = \\frac{1}{2} \\big( e^{ix} - e^{-ix} \\big)- \\frac{1}{2}\\big( e^{ix} + e^{-ix} \\big) = \\cos(i\\omega x) - i\\sin(i\\omega x)\n",
        "\\end{equation}"
      ],
      "id": "y0PwnwswGlel"
    },
    {
      "cell_type": "markdown",
      "metadata": {
        "id": "5sj-6UJ8GPcZ"
      },
      "source": [
        "With that in mind it is:\n",
        "\\begin{align}\n",
        "F(\\omega) &= \\frac{1}{\\sqrt{2\\pi}} \\int_{-\\infty}^{\\infty} \\exp\\Big( \\frac{-x^2}{2\\sigma^2} \\Big) \\exp(-i\\omega x) dx \\\\\n",
        "&= \\frac{1}{\\sqrt{2\\pi}} \\int_{-\\infty}^{\\infty} \\exp\\Big( \\frac{-x^2}{2\\sigma^2} \\Big) \\Big( \\cos(i\\omega x) - i \\sin(i\\omega x) \\Big) dx \\\\\n",
        "&= \\frac{1}{\\sqrt{2\\pi}} \\Big[ \\int_{-\\infty}^{\\infty} \\exp\\Big( \\frac{-x^2}{2\\sigma^2} \\Big) \\cos(i\\omega x) dx - i \\int_{-\\infty}^{\\infty} \\exp\\Big( \\frac{-x^2}{2\\sigma^2} \\Big) \\sin(i\\omega x) dx \\Big]\\\\ \n",
        "&= \\frac{1}{\\sqrt{2\\pi}} \\Big[ \\int_{-\\infty}^{\\infty} \\exp\\Big( \\frac{-x^2}{2\\sigma^2} \\Big) \\cos(i\\omega x) dx + 0 \\Big]\n",
        "\\end{align}"
      ],
      "id": "5sj-6UJ8GPcZ"
    },
    {
      "cell_type": "markdown",
      "metadata": {
        "id": "8P8auowXH3VE"
      },
      "source": [
        "The second term is zero, since all occuring functions in the integral are odd ($\\sin(x)=\\sin(-x)$ and $x^2 = (-x)^2$), and the integral is computed over a symmetric domain."
      ],
      "id": "8P8auowXH3VE"
    },
    {
      "cell_type": "markdown",
      "metadata": {
        "id": "Sqn3WjCRIMSE"
      },
      "source": [
        "Lets continue:\n",
        "\\begin{align}\n",
        "F(\\omega) &= \\frac{1}{\\sqrt{2\\pi}} \\int_{-\\infty}^{\\infty} \\exp\\Big( \\frac{-x^2}{2\\sigma^2} \\Big) \\cos(i\\omega x) dx\n",
        "\\end{align}"
      ],
      "id": "Sqn3WjCRIMSE"
    },
    {
      "cell_type": "markdown",
      "metadata": {
        "id": "6IpAq8IQKzCf"
      },
      "source": [
        "### 3 (b) The Fourier transform of a zero mean Gaussian is another (scaled) Gaussian"
      ],
      "id": "6IpAq8IQKzCf"
    },
    {
      "cell_type": "markdown",
      "metadata": {
        "id": "NM0fVqS7K713"
      },
      "source": [
        "To make a long story short, above you should have found that the Fourier transform of the Gaussian from above amounts to\n",
        "\n",
        "$$ F(\\omega) = \\sigma \\exp\\Big(-\\frac{1}{2} \\sigma^2 \\omega^2\\Big)$$"
      ],
      "id": "NM0fVqS7K713"
    },
    {
      "cell_type": "markdown",
      "metadata": {
        "id": "U6ZsWRfTLGyH"
      },
      "source": [
        "Use this result to plot the Fourier transforms of zero mean Gaussians\n",
        "with $\\sigma \\in \\{0.5, 1.0, 2.0\\}$ over the interval $\\omega\\in[−7, +7)$ and enter your\n",
        "plot here:"
      ],
      "id": "U6ZsWRfTLGyH"
    },
    {
      "cell_type": "code",
      "metadata": {
        "id": "Qu7BLXTALPk3"
      },
      "source": [
        "def spcG(x, sig=1.):\n",
        "    \"\"\"Simplified, zero mean Gaussian.\"\"\"\n",
        "    return np.exp(-0.5 * x**2 / sig**2)\n",
        "\n",
        "def frqG(o, sig=1.):\n",
        "    \"\"\"Fourier transform of the zero mean Gaussian\"\"\"\n",
        "    return sig * spcG(o, 1/sig)"
      ],
      "id": "Qu7BLXTALPk3",
      "execution_count": 61,
      "outputs": []
    },
    {
      "cell_type": "code",
      "metadata": {
        "id": "p-FBdmngLRTY",
        "outputId": "abd55702-b3ee-48d8-ce9b-0c78225c8f24",
        "colab": {
          "base_uri": "https://localhost:8080/",
          "height": 158
        }
      },
      "source": [
        "omin = -7\n",
        "omax = +7\n",
        "rate = 1024\n",
        "oval = np.linspace(omin, omax, rate, endpoint=False)\n",
        "\n",
        "\n",
        "sigs = [0.5, 1.0, 2.0]\n",
        "labs = [r'$\\sigma = %.1f$' % sig for sig in sigs]\n",
        "\n",
        "\n",
        "# Plot three Gaussian Fourier transforms\n",
        "fcts = [frqG(oval, sig=sig) for sig in sigs]\n",
        "\n",
        "lims = [omin, omax, -0.1, 2.2]\n",
        "xtcs = np.arange(omin+1, omax, 2)\n",
        "ytcs = [-1, 0, +1]\n",
        "plotFcts(oval, fcts, labs=labs, xtcs=xtcs, ytcs=ytcs, lims=lims, title='Fourier transforms of zero mean Gaussians')"
      ],
      "id": "p-FBdmngLRTY",
      "execution_count": 60,
      "outputs": [
        {
          "output_type": "display_data",
          "data": {
            "image/png": "[encoded data removed]",
            "text/plain": [
              "<Figure size 432x288 with 1 Axes>"
            ]
          },
          "metadata": {
            "needs_background": "light"
          }
        }
      ]
    },
    {
      "cell_type": "markdown",
      "metadata": {
        "id": "yP3CCOOEMUX8"
      },
      "source": [
        "### 3 (c) Fourier transform of Gaussians with non-zero mean"
      ],
      "id": "yP3CCOOEMUX8"
    },
    {
      "cell_type": "markdown",
      "metadata": {
        "id": "4UbUCeLMMbQB"
      },
      "source": [
        "At this point, you might (or better should) be wondering how to compute the Fourier transform of a Gaussian that is not centered\n",
        "at zero but at some $\\mu\\neq 0$.\n",
        "\n",
        "To answer this question, we can use the translation invariance of the Fourier transform we discussed in the lecture.\n",
        "Note that we can shift the input variable by setting $x - \\mu$, to obtain a translated Gaussian:\n",
        "\n",
        "\\begin{equation}\n",
        "f(x-\\mu) = \\exp\\Big( -\\frac{(x-\\mu)^2}{2\\sigma^2} \\Big)\n",
        "\\end{equation}"
      ],
      "id": "4UbUCeLMMbQB"
    },
    {
      "cell_type": "markdown",
      "metadata": {
        "id": "Of2HlHtwM5lg"
      },
      "source": [
        "But the Fourier transform of a translated function can be computed as ..."
      ],
      "id": "Of2HlHtwM5lg"
    },
    {
      "cell_type": "markdown",
      "metadata": {
        "id": "gNCdV6s5M-3Z"
      },
      "source": [
        "What do you observe? Is the Fourier transform of a shifted or translated Gaussian still a real valued function?"
      ],
      "id": "gNCdV6s5M-3Z"
    },
    {
      "cell_type": "markdown",
      "metadata": {
        "id": "ucLxtlg8NEIp"
      },
      "source": [
        "### 3 (d) Using the inverse Fourier transform to compute a derivative"
      ],
      "id": "ucLxtlg8NEIp"
    },
    {
      "cell_type": "markdown",
      "metadata": {
        "id": "7jjmBfdPNLiW"
      },
      "source": [
        "Now that we know the Fourier transform of a zero mean Gaussian, we can use the inverse Fourier transform to compute the derivative of \n",
        "$$ f(x) = \\exp\\Big(-\\frac{x^2}{2 \\sigma^2 }\\Big)$$\n",
        "\n",
        "because\n",
        "$$ \\frac{\\partial}{\\partial x} f(x) = \\mathcal{F}^{-1}\\Big\\{\\mathcal{F}\\Big\\{ \\frac{\\partial}{\\partial x} f(x) \\Big\\}\\Big\\} = \\mathcal{F}^{-1} \\{i\\omega F(\\omega)\\} $$"
      ],
      "id": "7jjmBfdPNLiW"
    },
    {
      "cell_type": "markdown",
      "metadata": {
        "id": "vAPW2U6QOBb5"
      },
      "source": [
        "Compute this inverse."
      ],
      "id": "vAPW2U6QOBb5"
    },
    {
      "cell_type": "markdown",
      "metadata": {
        "id": "1ad62587"
      },
      "source": [
        "## 4 - Numerically computing Fourier Tranforms of Gaussians"
      ],
      "id": "1ad62587"
    },
    {
      "cell_type": "markdown",
      "metadata": {
        "id": "d_TtM7sAOGBU"
      },
      "source": [
        "n all the previous tasks of this exercise sheet, we were concerned with symbolic computations. Now, we will get back to numeric computations.\n",
        "\n",
        "Our first corresponding task (this one) is a bit unusual in that we provide its solution. However, you really should carefully go through the following because it clarifies a critical issue you must know about. \n",
        "\n",
        "Above, you saw that the first derivative of a zero mean Gaussian can be computed as\n",
        "\n",
        "$$ \\frac{\\partial}{\\partial x} f(x) = \\mathcal{F}^{-1}\\Big\\{\\mathcal{F}\\Big\\{ \\frac{\\partial}{\\partial x} f(x) \\Big\\}\\Big\\} = \\mathcal{F}^{-1} \\{i\\omega F(\\omega)\\} $$\n",
        "\n",
        "Let us verify this numerically. To this end, run the following snippet:"
      ],
      "id": "d_TtM7sAOGBU"
    },
    {
      "cell_type": "code",
      "metadata": {
        "id": "-EiKF3PUOXQw",
        "outputId": "65edff7f-b4df-47ba-a82d-4c493ab33110",
        "colab": {
          "base_uri": "https://localhost:8080/",
          "height": 243
        }
      },
      "source": [
        "import numpy.fft as fft\n",
        "\n",
        "N = 1024\n",
        "xmin = -7\n",
        "xmax = +7\n",
        "xval = np.linspace(xmin, xmax, N, endpoint=False)\n",
        "oval = fft.fftfreq(N, (xmax-xmin)/N)\n",
        "\n",
        "s = 0.5\n",
        "f = np.exp(-0.5 * xval**2 / s**2)\n",
        "dfV1 = -xval / s**2 * np.exp(-0.5 * xval**2 / s**2)\n",
        "\n",
        "F = fft.fft(f)\n",
        "dfV2 = fft.ifft(1j * oval * F)\n",
        "\n",
        "dfV2 = np.real(dfV2)\n",
        "\n",
        "lims = [xmin, xmax, -1.5, 1.5]\n",
        "xtcs = np.arange(xmin+1, xmax, 2)\n",
        "ytcs = [-1, 0, +1]\n",
        "plotFcts(xval, [dfV1, dfV2])\n",
        "\n",
        "\n",
        "dfV2 = fft.ifft(2*np.pi * 1j * oval * F)\n",
        "dfV2 = np.real(dfV2)\n",
        "\n",
        "lims = [xmin, xmax, -1.5, 1.5]\n",
        "xtcs = np.arange(xmin+1, xmax, 2)\n",
        "ytcs = [-1, 0, +1]\n",
        "plotFcts(xval, [dfV1, dfV2])"
      ],
      "id": "-EiKF3PUOXQw",
      "execution_count": 63,
      "outputs": [
        {
          "output_type": "display_data",
          "data": {
            "image/png": "[encoded data removed]",
            "text/plain": [
              "<Figure size 432x288 with 1 Axes>"
            ]
          },
          "metadata": {
            "needs_background": "light"
          }
        },
        {
          "output_type": "display_data",
          "data": {
            "image/png": "[encoded data removed]",
            "text/plain": [
              "<Figure size 432x288 with 1 Axes>"
            ]
          },
          "metadata": {
            "needs_background": "light"
          }
        }
      ]
    },
    {
      "cell_type": "markdown",
      "metadata": {
        "id": "vBr0RI0KOgHD"
      },
      "source": [
        "Given our discussion so far, we would assume that arrays `dfV1` and `dfV2` contain the same values, right? So, go ahead and inspect their content."
      ],
      "id": "vBr0RI0KOgHD"
    },
    {
      "cell_type": "code",
      "metadata": {
        "id": "s1mrQo41OkXn"
      },
      "source": [
        ""
      ],
      "id": "s1mrQo41OkXn",
      "execution_count": null,
      "outputs": []
    },
    {
      "cell_type": "markdown",
      "metadata": {
        "id": "bo3l-UzkOkpi"
      },
      "source": [
        "What you should find is that they differ. Perhaps this difference is due to the numerical instabilities we discussed in the lecture? Hence, execute the following snippet:"
      ],
      "id": "bo3l-UzkOkpi"
    },
    {
      "cell_type": "code",
      "metadata": {
        "id": "jm9BI-wUOoEw"
      },
      "source": [
        "dfV2 = np.real(dfV2)"
      ],
      "id": "jm9BI-wUOoEw",
      "execution_count": 64,
      "outputs": []
    },
    {
      "cell_type": "markdown",
      "metadata": {
        "id": "vKdw4o7-OuHW"
      },
      "source": [
        "and inspect `dfV1` and `dfV2` again."
      ],
      "id": "vKdw4o7-OuHW"
    },
    {
      "cell_type": "code",
      "metadata": {
        "id": "e_DWuIcCOs4l",
        "outputId": "a32a5b1e-632e-4012-bc31-783b6b96ad44",
        "colab": {
          "base_uri": "https://localhost:8080/",
          "height": 265
        }
      },
      "source": [
        "plt.plot(xval, dfV1, '-', c='green')\n",
        "plt.plot(xval, dfV2, '-', c='red')\n",
        "plt.plot(xval, dfV2-dfV1, '--', c='black')\n",
        "plt.show()"
      ],
      "id": "e_DWuIcCOs4l",
      "execution_count": 73,
      "outputs": [
        {
          "output_type": "display_data",
          "data": {
            "image/png": "[encoded data removed]",
            "text/plain": [
              "<Figure size 432x288 with 1 Axes>"
            ]
          },
          "metadata": {
            "needs_background": "light"
          }
        }
      ]
    },
    {
      "cell_type": "markdown",
      "metadata": {
        "id": "nVWPUs7bPKkK"
      },
      "source": [
        "What your inspection should have revealed is that there is still a systematic deviation between the content of array `dfV1` and array `dfV2`. Here is how to remedy this situation:"
      ],
      "id": "nVWPUs7bPKkK"
    },
    {
      "cell_type": "code",
      "metadata": {
        "id": "aM4Um-JdPPVr"
      },
      "source": [
        "dfV2 = fft.ifft(2*np.pi * 1j * oval * F)\n",
        "dfV2 = np.real(dfV2)"
      ],
      "id": "aM4Um-JdPPVr",
      "execution_count": 74,
      "outputs": []
    },
    {
      "cell_type": "code",
      "metadata": {
        "id": "Bko7zrBPPR7C",
        "outputId": "696c489f-0e54-4c03-f8a2-e19a88c51dda",
        "colab": {
          "base_uri": "https://localhost:8080/",
          "height": 265
        }
      },
      "source": [
        "plt.plot(xval, dfV1, '-', c='green')\n",
        "plt.plot(xval, dfV2, '-', c='red')\n",
        "plt.plot(xval, dfV2-dfV1, '--', c='black')\n",
        "plt.show()"
      ],
      "id": "Bko7zrBPPR7C",
      "execution_count": 75,
      "outputs": [
        {
          "output_type": "display_data",
          "data": {
            "image/png": "[encoded data removed]",
            "text/plain": [
              "<Figure size 432x288 with 1 Axes>"
            ]
          },
          "metadata": {
            "needs_background": "light"
          }
        }
      ]
    },
    {
      "cell_type": "markdown",
      "metadata": {
        "id": "jarHtNmbPUyW"
      },
      "source": [
        "Now you should see that both arrays are basically identical (up to numerical precision). What is going on here? Why would a multiplication by a factor of $2\\pi$ cause our practical computation to agree with our theoretical expectation?"
      ],
      "id": "jarHtNmbPUyW"
    },
    {
      "cell_type": "markdown",
      "metadata": {
        "id": "P1qvxdc3Pa4G"
      },
      "source": [
        "The answer has to do with how we derived and subsequently defined the Fourier transform and its inverse."
      ],
      "id": "P1qvxdc3Pa4G"
    },
    {
      "cell_type": "markdown",
      "metadata": {
        "id": "3lPhgowrPfnz"
      },
      "source": [
        "%TODO: Fourier and inverse"
      ],
      "id": "3lPhgowrPfnz"
    },
    {
      "cell_type": "markdown",
      "metadata": {
        "id": "MMNRU7oNPhwc"
      },
      "source": [
        "Two key steps during our derivation were the introduction of the *angular frequency* $\\omega = \\frac{2 \\pi}{T k}$ and the limiting process $T\\to\\infty$. Note, however, that there is no “canonical” way of writing down the Fourier transform and its inverse. There are only different “conventions”. Another common convention\n",
        "is to consider the simple frequency $\\xi = \\frac{k}{T}$ and to let $T\\to\\infty$.\n",
        "\n",
        "Considering the definition of $\\xi$, we realize that we can write $\\omega = 2\\pi d\\xi$ and thus $d\\omega = 2 \\pi d\\xi$. Expressed in terms of $\\xi$, the Fourier transform and its corresponding verse become:"
      ],
      "id": "MMNRU7oNPhwc"
    },
    {
      "cell_type": "markdown",
      "metadata": {
        "id": "1D3ufA3UP-9U"
      },
      "source": [
        "%TODO: Fourier and inverse with 2nd convention"
      ],
      "id": "1D3ufA3UP-9U"
    },
    {
      "cell_type": "markdown",
      "metadata": {
        "id": "4jvhIBJQQEzW"
      },
      "source": [
        "With respect to the basic nature of the Fourier transform, the many different\n",
        "notational conventions do not really matter. They are but different ways of writing down the same concept. Yet, they do impact the way statements about properties of the Fourier transform have to be expressed.\n",
        "For instance, when following the convention we work with in this course, the fact that the Fourier transform turns differentiation into multiplication is expressed as\n",
        "\n",
        "$$ \\mathcal{F}\\Big\\{ \\frac{\\partial}{\\partial x} f(x) \\Big\\} = i\\omega \\mathcal{F}\\{f(x)\\} $$"
      ],
      "id": "4jvhIBJQQEzW"
    },
    {
      "cell_type": "markdown",
      "metadata": {
        "id": "m7wQvlmYQUof"
      },
      "source": [
        "However, in the convention we just discussed, it reads\n",
        "\n",
        "$$ \\hat{\\mathcal{F}}\\Big\\{ \\frac{\\partial}{\\partial x} f(x) \\Big\\} = 2\\pi i\\omega \\hat{\\mathcal{F}}\\{f(x)\\} $$\n",
        "\n",
        "or which we point out the appearance of the factor $2\\pi$."
      ],
      "id": "m7wQvlmYQUof"
    },
    {
      "cell_type": "markdown",
      "metadata": {
        "id": "bi0KIdfBQdvn"
      },
      "source": [
        "Now consider the discrete Fourier transform and its inverse:"
      ],
      "id": "bi0KIdfBQdvn"
    },
    {
      "cell_type": "markdown",
      "metadata": {
        "id": "s9op_1lHQnLe"
      },
      "source": [
        "These are computed by the numpy functions `fft.fft` and `fft.ifft` are indeed commonly defined w.r.t. to simple frequencies rather than w.r.t. angular frequencies. This is why we have to introduce the factor of $2\\pi$ and\n",
        "use the statements\n",
        "\n",
        "`dfV2 = fft.ifft(2*np.pi * 1j * oval * F)`\n",
        "\n",
        "`dfV2 = np.real(dfV2)`\n",
        "\n",
        "in order to numerically obtain the result which theory told us to expect."
      ],
      "id": "s9op_1lHQnLe"
    },
    {
      "cell_type": "markdown",
      "metadata": {
        "id": "9D3OX4xVQ5Sg"
      },
      "source": [
        "What is to be learned from this? It is an unfortunate fact of life in the hard\n",
        "(i.e. math-based) sciences that mathematical notation for more abstract concepts is not always set in stone. We all know this from experience and either did already or still have to learn to live with this. By and large\n",
        "this is no problem and the longer our careers in the sciences last, the easier it is for us to recognize different notations for what they are, namely nothing but different ways of writing down the same thing. In fact, we are used to something similar in our daily lives: hardly ever will different people we are talking to use the exact same phrases to express the same thing. Nevertheless, we typically understand what they mean.\n",
        "\n",
        "Here is a danger though: In an age where it has become easy and common place to download software (libraries) from the Web which promise to solve a certain (mathematical) problem, we as programmers must always\n",
        "make sure that our thinking is aligned with the thinking of the people who developed said software (libraries). In other words, we must always verify that a software (library) really computes what we think it computes. Lives can depend on that! For instance, methods such as the Fourier transform and its siblings are important in aerospace engineering. Would you want\n",
        "to be the person whose careless use of a third party library for the design of a more energy efficient wing shape is the cause of a plane crash with hundreds of casualties? If not, then never use software libraries you find on the Web without consideration."
      ],
      "id": "9D3OX4xVQ5Sg"
    },
    {
      "cell_type": "markdown",
      "metadata": {
        "id": "56c0a36d"
      },
      "source": [
        "## 5 - Visualizing 2D Fourier transforms"
      ],
      "id": "56c0a36d"
    },
    {
      "cell_type": "markdown",
      "metadata": {
        "id": "b931cfa7"
      },
      "source": [
        "## 6 - Exploring the Importance of Phase"
      ],
      "id": "b931cfa7"
    },
    {
      "cell_type": "markdown",
      "metadata": {
        "id": "2ba833c5"
      },
      "source": [
        "## 7 - Low-pass Filtering in the Frequency Domain"
      ],
      "id": "2ba833c5"
    },
    {
      "cell_type": "code",
      "metadata": {
        "id": "1e983476"
      },
      "source": [
        ""
      ],
      "id": "1e983476",
      "execution_count": null,
      "outputs": []
    }
  ]
}