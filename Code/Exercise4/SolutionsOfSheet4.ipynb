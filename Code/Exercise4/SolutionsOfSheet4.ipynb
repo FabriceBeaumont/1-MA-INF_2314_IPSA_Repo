{
  "nbformat": 4,
  "nbformat_minor": 5,
  "metadata": {
    "kernelspec": {
      "display_name": "Python 3 (ipykernel)",
      "language": "python",
      "name": "python3"
    },
    "language_info": {
      "codemirror_mode": {
        "name": "ipython",
        "version": 3
      },
      "file_extension": ".py",
      "mimetype": "text/x-python",
      "name": "python",
      "nbconvert_exporter": "python",
      "pygments_lexer": "ipython3",
      "version": "3.9.7"
    },
    "colab": {
      "name": "SolutionsOfSheet4.ipynb",
      "provenance": [],
      "include_colab_link": true
    }
  },
  "cells": [
    {
      "cell_type": "markdown",
      "metadata": {
        "id": "view-in-github",
        "colab_type": "text"
      },
      "source": [
        "<a href=\"https://colab.research.google.com/github/FabriceBeaumont/1-MA-INF_2314_IPSA_Repo/blob/main/Code/Exercise4/SolutionsOfSheet4.ipynb\" target=\"_parent\"><img src=\"https://colab.research.google.com/assets/colab-badge.svg\" alt=\"Open In Colab\"/></a>"
      ]
    },
    {
      "cell_type": "markdown",
      "metadata": {
        "id": "dcad54e6"
      },
      "source": [
        "# IPSA 2021 - Exercise 4 - Fourier Transforms and Gaussian filters"
      ],
      "id": "dcad54e6"
    },
    {
      "cell_type": "markdown",
      "metadata": {
        "id": "21723a7c"
      },
      "source": [
        "## 0 - Practical Advice"
      ],
      "id": "21723a7c"
    },
    {
      "cell_type": "code",
      "metadata": {
        "id": "7d072763"
      },
      "source": [
        "import imageio \n",
        "import numpy as np\n",
        "import numpy.fft as fft\n",
        "import numpy.random as rnd\n",
        "import scipy.ndimage as img\n",
        "import matplotlib.pyplot as plt\n",
        "\n",
        "plt.rcParams['figure.figsize'] = [10, 6]\n",
        "import timeit, functools"
      ],
      "id": "7d072763",
      "execution_count": 4,
      "outputs": []
    },
    {
      "cell_type": "code",
      "metadata": {
        "id": "f8e6f7db"
      },
      "source": [
        "def imageScaleRange(f, vmin=0, vmax=255):\n",
        "    \"\"\"Stretches the intensity values of a given image array f \n",
        "    such that they cover the whole range from 0 to 255\"\"\"\n",
        "    return np.interp(f, (f.min(), f.max()), (vmin, vmax))\n",
        "\n",
        "def imageRead(imgname, pilmode ='L', arrtype=float):\n",
        "    \"\"\"\n",
        "    Read an image file into a numpy array\n",
        "\n",
        "    imgname: str\n",
        "        name of image file to be read\n",
        "    pilmode: str\n",
        "        for luminance / intesity images use ’L’\n",
        "        for RGB color images use ’RGB’\n",
        "    \n",
        "    arrtype: numpy dtype\n",
        "        use np.float, np.uint8, ...\n",
        "    \"\"\"\n",
        "    return imageio.imread(imgname, pilmode=pilmode).astype(arrtype)\n",
        "\n",
        "def imageWrite(arrF, imgname, arrtype=np.uint8):\n",
        "    \"\"\"\n",
        "    Write a numpy array as an image file \n",
        "    the file type is inferred from the suffix of parameter imgname, e.g. ’.png’\n",
        "    arrF: array_like\n",
        "        array to be written\n",
        "    imgname: str\n",
        "        name of image file to be written\n",
        "    arrtype: numpy dtype\n",
        "        use np.uint8, ...\n",
        "    \"\"\"\n",
        "    imageio.imwrite(imgname, arrF.astype(arrtype))"
      ],
      "id": "f8e6f7db",
      "execution_count": 5,
      "outputs": []
    },
    {
      "cell_type": "code",
      "metadata": {
        "id": "508aa8b1"
      },
      "source": [
        "def writeFigure(fig, fname):\n",
        "    fmt = fname.split('.')[-1]\n",
        "    fig.savefig(fname, facecolor=fig.get_facecolor(), edgecolor='w',\n",
        "                papertype='letter', format=fmt, transparent=False,\n",
        "                bbox_inches='tight', pad_inches=0)\n",
        "\n",
        "def plotFcts(x, fs,\n",
        "             labs=None, lfs='x-small',\n",
        "             xtcs=None, ytcs=None,\n",
        "             lims=None, fname=None, title=None):\n",
        "\n",
        "    # Initialize figure and axes\n",
        "    fig = plt.figure()\n",
        "    axs = fig.add_subplot(211, facecolor='w')\n",
        "\n",
        "    # Nicer way of showing coordinate axes\n",
        "    for pos in ['left','bottom']:\n",
        "        axs.spines[pos].set_position('zero')\n",
        "    for pos in ['right','top']:\n",
        "        axs.spines[pos].set_visible(False)\n",
        "        \n",
        "    # Plot the function\n",
        "    for f in fs:\n",
        "        axs.plot(x, f, '-', alpha=0.75)\n",
        "\n",
        "    # Plot the legend\n",
        "    if labs is not None:\n",
        "        axs.legend(labs, loc=\"upper right\", fontsize=lfs,\n",
        "                   facecolor='#e0e0e0', edgecolor='k', fancybox=False)\n",
        "\n",
        "    if xtcs is not None: axs.set_xticks(xtcs)\n",
        "    if ytcs is not None: axs.set_yticks(ytcs)\n",
        "    \n",
        "    if lims is not None:\n",
        "        axs.set_xlim(lims[0], lims[1])\n",
        "        axs.set_ylim(lims[2], lims[3])\n",
        "        \n",
        "    if title:\n",
        "        plt.title(title)\n",
        "        \n",
        "        \n",
        "    # Show figure on screen or write it to disc\n",
        "    plt.show() if fname is None else writeFigure(fig, fname)\n",
        "    plt.close()"
      ],
      "id": "508aa8b1",
      "execution_count": 6,
      "outputs": []
    },
    {
      "cell_type": "markdown",
      "metadata": {
        "id": "c846e5eb"
      },
      "source": [
        "## 1 - Plotting boundaries of shape images"
      ],
      "id": "c846e5eb"
    },
    {
      "cell_type": "markdown",
      "metadata": {
        "id": "77aafa1c"
      },
      "source": [
        "In the Data folder for this exercise, you will find the data file `hand.csv` which contains a data matrix $X\\in\\mathbb{R}^{2\\times 537}$ whose columns $x_k = [x_k , y_k ]^\\intercal$ represent 2D points. If you plot these data points using individual dots or a closed line."
      ],
      "id": "77aafa1c"
    },
    {
      "cell_type": "markdown",
      "metadata": {
        "id": "9ed0b248"
      },
      "source": [
        "![dot_and_line.png](attachment:dot_and_line.png)"
      ],
      "id": "9ed0b248"
    },
    {
      "cell_type": "markdown",
      "source": [
        "To read these data into a numpy array `matX` representing matrix $X$, you may proceed as follows:"
      ],
      "metadata": {
        "id": "tnKylN3zfjU2"
      },
      "id": "tnKylN3zfjU2"
    },
    {
      "cell_type": "code",
      "source": [
        "matX = np.loadtxt('hand.csv', delimiter=', ')"
      ],
      "metadata": {
        "id": "EAKEyYUxfn1n"
      },
      "id": "EAKEyYUxfn1n",
      "execution_count": 7,
      "outputs": []
    },
    {
      "cell_type": "markdown",
      "source": [
        "Now, center the data in $X$, i.e. determine the the mean $\\hat{x}$ of the data points $x_k$ and transform them as follows:\n",
        "$$  x_k  \\leftarrow \\quad x_k - \\hat{x} $$\n"
      ],
      "metadata": {
        "id": "iaAQ9IJtf4Dq"
      },
      "id": "iaAQ9IJtf4Dq"
    },
    {
      "cell_type": "markdown",
      "source": [
        "Create a dot plot and a line plot of the centered data (including coordinate axes)."
      ],
      "metadata": {
        "id": "-OQp1V4vgL8-"
      },
      "id": "-OQp1V4vgL8-"
    },
    {
      "cell_type": "markdown",
      "metadata": {
        "id": "e599fc1a"
      },
      "source": [
        "## 2 - Interpolating boundaries of shape images"
      ],
      "id": "e599fc1a"
    },
    {
      "cell_type": "markdown",
      "metadata": {
        "id": "821d3bbb"
      },
      "source": [
        "In what follows, we will work with the centered data matrix $\\hat{X}$ which you computed in the previous task and we will assume that is  available in a 2D numpy array `matXh`.\n",
        "\n",
        "Recall that this matrix contains $n = 537$ column vectors $x_k = [x_k , y_k ]^\\intercal$.\n",
        "Given these $n$ data points, we will now interpolate $N$. Without further ado, this can be accomplished as follows:"
      ],
      "id": "821d3bbb"
    },
    {
      "cell_type": "code",
      "source": [
        "matXh = np.hstack((matXh, matXh[:,0].reshape(2,1)))\n",
        "stps = np.linspace(0, 2*np.pi, matXh.shape[1])\n",
        "iplx = ipl.interp1d(stps, matXh[0], kind='cubic')\n",
        "iply = ipl.interp1d(stps, matXh[1], kind='cubic')\n",
        "\n",
        "matXi = np.vstack((iplx(np.linspace(0, 2*np.pi, N, endpoint=False)), iply(np.linspace(0, 2*np.pi, N, endpoint=False))))"
      ],
      "metadata": {
        "colab": {
          "base_uri": "https://localhost:8080/",
          "height": 248
        },
        "id": "nIvUixuOg1Q8",
        "outputId": "322ec192-ca7f-471a-8aab-4eda80f2dcfc"
      },
      "id": "nIvUixuOg1Q8",
      "execution_count": 10,
      "outputs": [
        {
          "output_type": "error",
          "ename": "NameError",
          "evalue": "ignored",
          "traceback": [
            "\u001b[0;31m---------------------------------------------------------------------------\u001b[0m",
            "\u001b[0;31mNameError\u001b[0m                                 Traceback (most recent call last)",
            "\u001b[0;32m<ipython-input-10-73d8d624295d>\u001b[0m in \u001b[0;36m<module>\u001b[0;34m()\u001b[0m\n\u001b[0;32m----> 1\u001b[0;31m \u001b[0mmatXh\u001b[0m \u001b[0;34m=\u001b[0m \u001b[0mnp\u001b[0m\u001b[0;34m.\u001b[0m\u001b[0mhstack\u001b[0m\u001b[0;34m(\u001b[0m\u001b[0;34m(\u001b[0m\u001b[0mmatXh\u001b[0m\u001b[0;34m,\u001b[0m \u001b[0mmatXh\u001b[0m\u001b[0;34m[\u001b[0m\u001b[0;34m:\u001b[0m\u001b[0;34m,\u001b[0m\u001b[0;36m0\u001b[0m\u001b[0;34m]\u001b[0m\u001b[0;34m.\u001b[0m\u001b[0mreshape\u001b[0m\u001b[0;34m(\u001b[0m\u001b[0;36m2\u001b[0m\u001b[0;34m,\u001b[0m\u001b[0;36m1\u001b[0m\u001b[0;34m)\u001b[0m\u001b[0;34m)\u001b[0m\u001b[0;34m)\u001b[0m\u001b[0;34m\u001b[0m\u001b[0;34m\u001b[0m\u001b[0m\n\u001b[0m\u001b[1;32m      2\u001b[0m \u001b[0mstps\u001b[0m \u001b[0;34m=\u001b[0m \u001b[0mnp\u001b[0m\u001b[0;34m.\u001b[0m\u001b[0mlinspace\u001b[0m\u001b[0;34m(\u001b[0m\u001b[0;36m0\u001b[0m\u001b[0;34m,\u001b[0m \u001b[0;36m2\u001b[0m\u001b[0;34m*\u001b[0m\u001b[0mnp\u001b[0m\u001b[0;34m.\u001b[0m\u001b[0mpi\u001b[0m\u001b[0;34m,\u001b[0m \u001b[0mmatXh\u001b[0m\u001b[0;34m.\u001b[0m\u001b[0mshape\u001b[0m\u001b[0;34m[\u001b[0m\u001b[0;36m1\u001b[0m\u001b[0;34m]\u001b[0m\u001b[0;34m)\u001b[0m\u001b[0;34m\u001b[0m\u001b[0;34m\u001b[0m\u001b[0m\n\u001b[1;32m      3\u001b[0m \u001b[0miplx\u001b[0m \u001b[0;34m=\u001b[0m \u001b[0mipl\u001b[0m\u001b[0;34m.\u001b[0m\u001b[0minterp1d\u001b[0m\u001b[0;34m(\u001b[0m\u001b[0mstps\u001b[0m\u001b[0;34m,\u001b[0m \u001b[0mmatXh\u001b[0m\u001b[0;34m[\u001b[0m\u001b[0;36m0\u001b[0m\u001b[0;34m]\u001b[0m\u001b[0;34m,\u001b[0m \u001b[0mkind\u001b[0m\u001b[0;34m=\u001b[0m\u001b[0;34m'cubic'\u001b[0m\u001b[0;34m)\u001b[0m\u001b[0;34m\u001b[0m\u001b[0;34m\u001b[0m\u001b[0m\n\u001b[1;32m      4\u001b[0m \u001b[0miply\u001b[0m \u001b[0;34m=\u001b[0m \u001b[0mipl\u001b[0m\u001b[0;34m.\u001b[0m\u001b[0minterp1d\u001b[0m\u001b[0;34m(\u001b[0m\u001b[0mstps\u001b[0m\u001b[0;34m,\u001b[0m \u001b[0mmatXh\u001b[0m\u001b[0;34m[\u001b[0m\u001b[0;36m1\u001b[0m\u001b[0;34m]\u001b[0m\u001b[0;34m,\u001b[0m \u001b[0mkind\u001b[0m\u001b[0;34m=\u001b[0m\u001b[0;34m'cubic'\u001b[0m\u001b[0;34m)\u001b[0m\u001b[0;34m\u001b[0m\u001b[0;34m\u001b[0m\u001b[0m\n\u001b[1;32m      5\u001b[0m \u001b[0;34m\u001b[0m\u001b[0m\n",
            "\u001b[0;31mNameError\u001b[0m: name 'matXh' is not defined"
          ]
        }
      ]
    },
    {
      "cell_type": "markdown",
      "source": [
        "Create plots dot- and line for the cases where for $N = \\{256, 512\\}$."
      ],
      "metadata": {
        "id": "Ne-jM3yDhGDn"
      },
      "id": "Ne-jM3yDhGDn"
    },
    {
      "cell_type": "markdown",
      "metadata": {
        "id": "0802cba5"
      },
      "source": [
        "## 3 - Fourier transforms of periodic complex valued functions"
      ],
      "id": "0802cba5"
    },
    {
      "cell_type": "markdown",
      "source": [
        "Note that we can alternatively think of the 2D data points $x_k = [x_k , y_k ]^\\intercal$ from the previous tasks in terms of complex numbers\n",
        "$$ z_k = x_k + i y_k $$\n",
        "\n",
        "Also note that we can therefore think of our use of `ipl.interp1d` in the previous task as having created a continuous function $f:[0, 2\\pi ) \\to C$ which we then sampled at points $j · \\frac{2\\pi}{N}$ where $j = 0, \\dots , N − 1$ to obtain a vector or 1D array \n",
        "\u0003$$ z = [ z_0, z_1 , \\dots z_{N-1}] $$\n",
        "\u0001\n",
        "where $z_j = f\\big( j\\frac{2\\pi}{N} \\big)$.\n",
        "\n",
        "Finally, note that we may think of array $z$ as the values of one period of the discrete periodic function $f[j] = f \\big( j\\frac{2\\pi}{N} \\big)$ where $j = J \\text{mod} N$ and $J\\in\\mathbb{Z}$."
      ],
      "metadata": {
        "id": "Jz-DaNUZhSYn"
      },
      "id": "Jz-DaNUZhSYn"
    },
    {
      "cell_type": "markdown",
      "source": [
        "To compute array $z$ in practice, i.e. not just conceptually, you may reuse your results from the previous task. Letting $N = 256$, recompute array `arrXi` and then execute"
      ],
      "metadata": {
        "id": "JTgDJvFOiMYj"
      },
      "id": "JTgDJvFOiMYj"
    },
    {
      "cell_type": "code",
      "source": [
        "arrZ = matXi[0] + 1j * matXi[1]"
      ],
      "metadata": {
        "id": "NwLAm1KqhSLp"
      },
      "id": "NwLAm1KqhSLp",
      "execution_count": null,
      "outputs": []
    },
    {
      "cell_type": "markdown",
      "source": [
        "Now compute the Fourier transform of array $z$ and low pass filter it with cut-off frequencies $\\omega_l\\in \\{2, 4\\}$. (Remember our discussion of `fft.fftfreq` in *lecture 10* and of `fft.fftshift` and `fft.ifftshift` in *lecture 11*.)\n",
        "\n",
        "Compute the inverse Fourier transform of the filtered signal and create line plots of your results. To see how these should look like, here are results for $\\omega_l\\in \\{0.5, 1.0\\}$."
      ],
      "metadata": {
        "id": "nvuknCA7hR0e"
      },
      "id": "nvuknCA7hR0e"
    },
    {
      "cell_type": "markdown",
      "metadata": {
        "id": "ucLxtlg8NEIp"
      },
      "source": [
        "## 4 Gaussian filtering in practice"
      ],
      "id": "ucLxtlg8NEIp"
    },
    {
      "cell_type": "markdown",
      "source": [
        "In the Data folder for this exercise, you will find the intensity image `cat.png`. Read it into a numpy array $arrF$.\n",
        "\n",
        "In the lecture we discussed Gaussian filtering in the space domain and saw that we can think of the process as moving a corresponding filter\n",
        "mask across the image to be filtered. Back then, the question arose how to handle pixels close to the boundary of the image and your instructor\n",
        "said not to obsess about this issue...\n",
        "\n",
        "Indeed, Gaussian filtering is such a common task that `scipy` has us covered. Its `ndimage` module contains the function gaussian filter which you may use like this:"
      ],
      "metadata": {
        "id": "cnUHEEG0imhE"
      },
      "id": "cnUHEEG0imhE"
    },
    {
      "cell_type": "code",
      "source": [
        "sigm = 7.\n",
        "arrH = img.gaussian_filter(arrF, sigma=sigm, mode='constant')"
      ],
      "metadata": {
        "colab": {
          "base_uri": "https://localhost:8080/",
          "height": 137
        },
        "id": "ZXRXjbSYilJJ",
        "outputId": "af41d896-c694-4c26-c3d2-068f0eba278f"
      },
      "id": "ZXRXjbSYilJJ",
      "execution_count": 11,
      "outputs": [
        {
          "output_type": "error",
          "ename": "SyntaxError",
          "evalue": "ignored",
          "traceback": [
            "\u001b[0;36m  File \u001b[0;32m\"<ipython-input-11-673ae44c78ba>\"\u001b[0;36m, line \u001b[0;32m2\u001b[0m\n\u001b[0;31m    arrH = img.gaussian_filter(arrF, sigma=sigm, mode=’constant’)\u001b[0m\n\u001b[0m                                                               ^\u001b[0m\n\u001b[0;31mSyntaxError\u001b[0m\u001b[0;31m:\u001b[0m invalid character in identifier\n"
          ]
        }
      ]
    },
    {
      "cell_type": "markdown",
      "source": [
        "Note, however, that constant is not the only possible value for parameter mode. This parameter tell the function how to handle the “boundary pixel problem” and if you read the scipy manual, you will find that it can also be\n",
        "set to reflect, mirror, nearest,...\n",
        "\n",
        "Consider $\\sigma \\in \\{1, 3, 9\\}$ and the mode parameters just mentioned to compute filtered images $arrH$. Write these images as PNG files."
      ],
      "metadata": {
        "id": "qFO5Eap6i5cR"
      },
      "id": "qFO5Eap6i5cR"
    },
    {
      "cell_type": "code",
      "source": [
        ""
      ],
      "metadata": {
        "id": "4yGlOCcbi0s5"
      },
      "id": "4yGlOCcbi0s5",
      "execution_count": null,
      "outputs": []
    },
    {
      "cell_type": "markdown",
      "source": [
        "What do you observe? Does the manner in which images boundaries are handled make a huge difference in practice?"
      ],
      "metadata": {
        "id": "T9_xnoKRjI2S"
      },
      "id": "T9_xnoKRjI2S"
    }
  ]
}