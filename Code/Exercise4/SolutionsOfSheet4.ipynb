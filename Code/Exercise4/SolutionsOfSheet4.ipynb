{
  "nbformat": 4,
  "nbformat_minor": 5,
  "metadata": {
    "kernelspec": {
      "display_name": "Python 3 (ipykernel)",
      "language": "python",
      "name": "python3"
    },
    "language_info": {
      "codemirror_mode": {
        "name": "ipython",
        "version": 3
      },
      "file_extension": ".py",
      "mimetype": "text/x-python",
      "name": "python",
      "nbconvert_exporter": "python",
      "pygments_lexer": "ipython3",
      "version": "3.9.7"
    },
    "colab": {
      "name": "SolutionsOfSheet4.ipynb",
      "provenance": [],
      "include_colab_link": true
    }
  },
  "cells": [
    {
      "cell_type": "markdown",
      "metadata": {
        "id": "view-in-github",
        "colab_type": "text"
      },
      "source": [
        "<a href=\"https://colab.research.google.com/github/FabriceBeaumont/1-MA-INF_2314_IPSA_Repo/blob/main/Code/Exercise4/SolutionsOfSheet4.ipynb\" target=\"_parent\"><img src=\"https://colab.research.google.com/assets/colab-badge.svg\" alt=\"Open In Colab\"/></a>"
      ]
    },
    {
      "cell_type": "markdown",
      "metadata": {
        "id": "dcad54e6"
      },
      "source": [
        "# IPSA 2021 - Exercise 4 - Fourier Transforms and Gaussian filters"
      ],
      "id": "dcad54e6"
    },
    {
      "cell_type": "markdown",
      "metadata": {
        "id": "21723a7c"
      },
      "source": [
        "## 0 - Practical Advice"
      ],
      "id": "21723a7c"
    },
    {
      "cell_type": "code",
      "metadata": {
        "id": "7d072763"
      },
      "source": [
        "import imageio \n",
        "import numpy as np\n",
        "import numpy.fft as fft\n",
        "import numpy.random as rnd\n",
        "import scipy.ndimage as img\n",
        "import matplotlib.pyplot as plt\n",
        "\n",
        "plt.rcParams['figure.figsize'] = [10, 6]\n",
        "import timeit, functools"
      ],
      "id": "7d072763",
      "execution_count": 4,
      "outputs": []
    },
    {
      "cell_type": "code",
      "metadata": {
        "id": "f8e6f7db"
      },
      "source": [
        "def imageScaleRange(f, vmin=0, vmax=255):\n",
        "    \"\"\"Stretches the intensity values of a given image array f \n",
        "    such that they cover the whole range from 0 to 255\"\"\"\n",
        "    return np.interp(f, (f.min(), f.max()), (vmin, vmax))\n",
        "\n",
        "def imageRead(imgname, pilmode ='L', arrtype=float):\n",
        "    \"\"\"\n",
        "    Read an image file into a numpy array\n",
        "\n",
        "    imgname: str\n",
        "        name of image file to be read\n",
        "    pilmode: str\n",
        "        for luminance / intesity images use ’L’\n",
        "        for RGB color images use ’RGB’\n",
        "    \n",
        "    arrtype: numpy dtype\n",
        "        use np.float, np.uint8, ...\n",
        "    \"\"\"\n",
        "    return imageio.imread(imgname, pilmode=pilmode).astype(arrtype)\n",
        "\n",
        "def imageWrite(arrF, imgname, arrtype=np.uint8):\n",
        "    \"\"\"\n",
        "    Write a numpy array as an image file \n",
        "    the file type is inferred from the suffix of parameter imgname, e.g. ’.png’\n",
        "    arrF: array_like\n",
        "        array to be written\n",
        "    imgname: str\n",
        "        name of image file to be written\n",
        "    arrtype: numpy dtype\n",
        "        use np.uint8, ...\n",
        "    \"\"\"\n",
        "    imageio.imwrite(imgname, arrF.astype(arrtype))"
      ],
      "id": "f8e6f7db",
      "execution_count": 5,
      "outputs": []
    },
    {
      "cell_type": "code",
      "metadata": {
        "id": "508aa8b1"
      },
      "source": [
        "def writeFigure(fig, fname):\n",
        "    fmt = fname.split('.')[-1]\n",
        "    fig.savefig(fname, facecolor=fig.get_facecolor(), edgecolor='w',\n",
        "                papertype='letter', format=fmt, transparent=False,\n",
        "                bbox_inches='tight', pad_inches=0)\n",
        "\n",
        "def plotFcts(x, fs,\n",
        "             labs=None, lfs='x-small',\n",
        "             xtcs=None, ytcs=None,\n",
        "             lims=None, fname=None, title=None):\n",
        "\n",
        "    # Initialize figure and axes\n",
        "    fig = plt.figure()\n",
        "    axs = fig.add_subplot(211, facecolor='w')\n",
        "\n",
        "    # Nicer way of showing coordinate axes\n",
        "    for pos in ['left','bottom']:\n",
        "        axs.spines[pos].set_position('zero')\n",
        "    for pos in ['right','top']:\n",
        "        axs.spines[pos].set_visible(False)\n",
        "        \n",
        "    # Plot the function\n",
        "    for f in fs:\n",
        "        axs.plot(x, f, '-', alpha=0.75)\n",
        "\n",
        "    # Plot the legend\n",
        "    if labs is not None:\n",
        "        axs.legend(labs, loc=\"upper right\", fontsize=lfs,\n",
        "                   facecolor='#e0e0e0', edgecolor='k', fancybox=False)\n",
        "\n",
        "    if xtcs is not None: axs.set_xticks(xtcs)\n",
        "    if ytcs is not None: axs.set_yticks(ytcs)\n",
        "    \n",
        "    if lims is not None:\n",
        "        axs.set_xlim(lims[0], lims[1])\n",
        "        axs.set_ylim(lims[2], lims[3])\n",
        "        \n",
        "    if title:\n",
        "        plt.title(title)\n",
        "        \n",
        "        \n",
        "    # Show figure on screen or write it to disc\n",
        "    plt.show() if fname is None else writeFigure(fig, fname)\n",
        "    plt.close()"
      ],
      "id": "508aa8b1",
      "execution_count": 6,
      "outputs": []
    },
    {
      "cell_type": "markdown",
      "metadata": {
        "id": "c846e5eb"
      },
      "source": [
        "## 1 - Plotting boundaries of shape images"
      ],
      "id": "c846e5eb"
    },
    {
      "cell_type": "markdown",
      "metadata": {
        "id": "77aafa1c"
      },
      "source": [
        "In the Data folder for this exercise, you will find the data file `hand.csv` which contains a data matrix $X\\in\\mathbb{R}^{2\\times 537}$ whose columns $x_k = [x_k , y_k ]^\\intercal$ represent 2D points. If you plot these data points using individual dots or a closed line."
      ],
      "id": "77aafa1c"
    },
    {
      "cell_type": "markdown",
      "metadata": {
        "id": "9ed0b248"
      },
      "source": [
        "![dot_and_line.png](attachment:dot_and_line.png)"
      ],
      "id": "9ed0b248"
    },
    {
      "cell_type": "markdown",
      "source": [
        "To read these data into a numpy array `matX` representing matrix $X$, you may proceed as follows:"
      ],
      "metadata": {
        "id": "tnKylN3zfjU2"
      },
      "id": "tnKylN3zfjU2"
    },
    {
      "cell_type": "code",
      "source": [
        "matX = np.loadtxt('hand.csv', delimiter=', ')"
      ],
      "metadata": {
        "id": "EAKEyYUxfn1n"
      },
      "id": "EAKEyYUxfn1n",
      "execution_count": 7,
      "outputs": []
    },
    {
      "cell_type": "markdown",
      "source": [
        "Now, center the data in $X$, i.e. determine the the mean $\\hat{x}$ of the data points $x_k$ and transform them as follows:\n",
        "$$  x_k  \\leftarrow \\quad x_k - \\hat{x} $$\n"
      ],
      "metadata": {
        "id": "iaAQ9IJtf4Dq"
      },
      "id": "iaAQ9IJtf4Dq"
    },
    {
      "cell_type": "markdown",
      "source": [
        "Create a dot plot and a line plot of the centered data (including coordinate axes)."
      ],
      "metadata": {
        "id": "-OQp1V4vgL8-"
      },
      "id": "-OQp1V4vgL8-"
    },
    {
      "cell_type": "markdown",
      "metadata": {
        "id": "e599fc1a"
      },
      "source": [
        "## 2 - Interpolating boundaries of shape images"
      ],
      "id": "e599fc1a"
    },
    {
      "cell_type": "markdown",
      "metadata": {
        "id": "821d3bbb"
      },
      "source": [
        "In this course, we work extensively with the python modules `numpy` / `scipy` because they provide numerous functionalities for numerical computing and number crunching. However, during the lectures, we also mentioned software for symbolic computation. Maybe you have come across such software before? Maybe you have heard of Wolfram Mathematica? For python, functionalities for symbolic computation are provided by the `sympy` module. To see what it buys you, execute the following snippet:"
      ],
      "id": "821d3bbb"
    },
    {
      "cell_type": "markdown",
      "metadata": {
        "id": "0802cba5"
      },
      "source": [
        "## 3 - Fourier Transforms of Gaussians and their Derivatives"
      ],
      "id": "0802cba5"
    },
    {
      "cell_type": "markdown",
      "metadata": {
        "id": "ucLxtlg8NEIp"
      },
      "source": [
        "### 3 (d) Using the inverse Fourier transform to compute a derivative"
      ],
      "id": "ucLxtlg8NEIp"
    }
  ]
}