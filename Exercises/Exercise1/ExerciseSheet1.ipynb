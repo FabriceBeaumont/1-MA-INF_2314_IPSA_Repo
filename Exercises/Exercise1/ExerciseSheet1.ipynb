{
  "nbformat": 4,
  "nbformat_minor": 0,
  "metadata": {
    "colab": {
      "name": "ExerciseSheet1.ipynb",
      "provenance": [],
      "authorship_tag": "ABX9TyMKuWDmA3mhX8E8ExW1Fcve",
      "include_colab_link": true
    },
    "kernelspec": {
      "name": "python3",
      "display_name": "Python 3"
    },
    "language_info": {
      "name": "python"
    }
  },
  "cells": [
    {
      "cell_type": "markdown",
      "metadata": {
        "id": "view-in-github",
        "colab_type": "text"
      },
      "source": [
        "<a href=\"https://colab.research.google.com/github/FabriceBeaumont/1-MA-INF_2314_IPSA_Repo/blob/main/Exercises/Exercise1/ExerciseSheet1.ipynb\" target=\"_parent\"><img src=\"https://colab.research.google.com/assets/colab-badge.svg\" alt=\"Open In Colab\"/></a>"
      ]
    },
    {
      "cell_type": "markdown",
      "metadata": {
        "id": "v7crgJcx8_Zo"
      },
      "source": [
        "# IPSA 2021 - Exercise 1 - Warm Up\n",
        "\n",
        "The goal of this exercise is to get used to practical image processing in\n",
        "*python / numpy / scipy*. \n",
        "\n",
        "Do **NOT** use additional third party libraries such as *OpenCV* or\n",
        "*scikit-image* for the coding tasks in this course!\n",
        "\n"
      ]
    },
    {
      "cell_type": "code",
      "metadata": {
        "id": "B4fTY_At86tb"
      },
      "source": [
        "import imageio\n",
        "import numpy as np\n",
        "import scipy.ndimage as img"
      ],
      "execution_count": 1,
      "outputs": []
    },
    {
      "cell_type": "code",
      "metadata": {
        "id": "w5l9eFCX9rfP"
      },
      "source": [
        ""
      ],
      "execution_count": null,
      "outputs": []
    }
  ]
}