{
  "nbformat": 4,
  "nbformat_minor": 0,
  "metadata": {
    "colab": {
      "name": "Utils.ipynb",
      "provenance": [],
      "collapsed_sections": [],
      "authorship_tag": "ABX9TyM+xaTo0FRjz3in5Oq/RYN2",
      "include_colab_link": true
    },
    "kernelspec": {
      "name": "python3",
      "display_name": "Python 3"
    },
    "language_info": {
      "name": "python"
    }
  },
  "cells": [
    {
      "cell_type": "markdown",
      "metadata": {
        "id": "view-in-github",
        "colab_type": "text"
      },
      "source": [
        "<a href=\"https://colab.research.google.com/github/FabriceBeaumont/1-MA-INF_2314_IPSA_Repo/blob/main/Exercises/Utils.ipynb\" target=\"_parent\"><img src=\"https://colab.research.google.com/assets/colab-badge.svg\" alt=\"Open In Colab\"/></a>"
      ]
    },
    {
      "cell_type": "markdown",
      "metadata": {
        "id": "hvcR9558A8wQ"
      },
      "source": [
        "# IPSA 2021 - Utils"
      ]
    },
    {
      "cell_type": "code",
      "metadata": {
        "id": "FFa2G-wtA7-u"
      },
      "source": [
        "import imageio\n",
        "import numpy as np\n",
        "import scipy.ndimage as img\n",
        "import matplotlib.pyplot as plt"
      ],
      "execution_count": 1,
      "outputs": []
    },
    {
      "cell_type": "code",
      "metadata": {
        "id": "ZKfFmW6fBEOL"
      },
      "source": [
        "def imageRead(imgname, pilmode='L', arrtype=np.float):\n",
        "    \"\"\"\n",
        "    read an image file into a numpy array\n",
        "    imgname: str\n",
        "    name of image file to be read\n",
        "    pilmode: str\n",
        "    for luminance / intesity images use ’L’\n",
        "    for RGB color images use ’RGB’\n",
        "    arrtype: numpy dtype\n",
        "    use np.float, np.uint8, ...\n",
        "    \"\"\"\n",
        "    return imageio.imread(imgname, pilmode=pilmode).astype(arrtype)"
      ],
      "execution_count": 3,
      "outputs": []
    },
    {
      "cell_type": "code",
      "metadata": {
        "id": "mgt_LP9XBIpR"
      },
      "source": [
        "def imageWrite(arrF, imgname, arrtype=np.uint8):\n",
        "    \"\"\"\n",
        "    write a numpy array as an image file\n",
        "    the file type is inferred from the suffix of parameter imgname, e.g. ’.png’\n",
        "    arrF: array_like\n",
        "    array to be written\n",
        "    imgname: str\n",
        "    name of image file to be written\n",
        "    arrtype: numpy dtype\n",
        "    use np.uint8, ...\n",
        "    \"\"\"\n",
        "    imageio.imwrite(imgname, arrF.astype(arrtype))"
      ],
      "execution_count": 4,
      "outputs": []
    },
    {
      "cell_type": "code",
      "metadata": {
        "id": "Y5z_n7rzBMY6"
      },
      "source": [
        "def imageShow(imgname, is_color_image=False):\n",
        "    arrF = None\n",
        "\n",
        "    if is_color_image:\n",
        "        arrF = imageRead(imgname, pilmode='RGB')\n",
        "        plt.imshow(arrF / 255)\n",
        "    else:\n",
        "        arrF = imageRead(imgname)\n",
        "        plt.imshow(arrF / 255, cmap='gray') \n",
        "    \n",
        "    plt.show()\n",
        "    return arrF"
      ],
      "execution_count": 6,
      "outputs": []
    },
    {
      "cell_type": "code",
      "metadata": {
        "id": "VBI_n6YrB_QQ"
      },
      "source": [
        ""
      ],
      "execution_count": null,
      "outputs": []
    }
  ]
}